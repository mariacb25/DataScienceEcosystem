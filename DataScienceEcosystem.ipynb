{
 "cells": [
  {
   "cell_type": "markdown",
   "id": "638cd5ec-219c-44e5-ac89-55836e35c7f3",
   "metadata": {},
   "source": [
    "# Data Science Tools and Ecosystem"
   ]
  },
  {
   "cell_type": "markdown",
   "id": "deb9315e-4990-4079-a532-7a2ded31cf81",
   "metadata": {},
   "source": [
    "In this notebook, Data Science Tools and Ecosystem are summarized."
   ]
  },
  {
   "cell_type": "markdown",
   "id": "11ae7e43-b660-499c-b7a2-6bd142e7c1b9",
   "metadata": {},
   "source": [
    "**Objectives**\n",
    "  \n",
    "- List of popular language for Data Science\n",
    "- List of Commonly used libraries by Data scientists\n",
    "- List of popular Data science tool"
   ]
  },
  {
   "cell_type": "markdown",
   "id": "839d8f59-150e-4029-8654-2326bfad0d53",
   "metadata": {},
   "source": [
    "Some of the popular languages that Data Scientists use are:\n",
    "1. SQL\n",
    "2. Java\n",
    "3. R\n",
    "4. C++\n"
   ]
  },
  {
   "cell_type": "markdown",
   "id": "3303be3c-802b-489c-8a6b-b2df9de9c17d",
   "metadata": {},
   "source": [
    "Some of the commonly used libraries used by Data Scientists include:\n",
    "1. NumPy\n",
    "2. Pandas\n",
    "3. Matplotlib\n"
   ]
  },
  {
   "cell_type": "markdown",
   "id": "4ce2dd28-9743-41bb-9c6e-a3011692f2bf",
   "metadata": {},
   "source": [
    "|Data Science Tools|\n",
    "|-------------------|\n",
    "|RStudio|\n",
    "|TensorFlow|\n",
    "|Apache Hadoop|\n",
    " "
   ]
  },
  {
   "cell_type": "markdown",
   "id": "44ae0b76-7977-4285-96c1-96cf2d525194",
   "metadata": {},
   "source": [
    "### Below are a few examples of evaluating arithmetic expressions in Python"
   ]
  },
  {
   "cell_type": "markdown",
   "id": "3bf66ebd-2b02-46cf-a5a8-9d0af31cf373",
   "metadata": {},
   "source": [
    "This is a simple arithmetic expression to multiply then add integers\n",
    "\n",
    "(3*4)+5"
   ]
  },
  {
   "cell_type": "code",
   "execution_count": 12,
   "id": "1c4b2650-ab27-4fc1-80ad-914e9e429379",
   "metadata": {},
   "outputs": [
    {
     "data": {
      "text/plain": [
       "3.3333333333333335"
      ]
     },
     "execution_count": 12,
     "metadata": {},
     "output_type": "execute_result"
    }
   ],
   "source": [
    "# This will convert 200 minutes to hours by diving by 60\n",
    "200 / 60"
   ]
  },
  {
   "cell_type": "markdown",
   "id": "79122382-2126-4dbe-86e3-ff835c3c1358",
   "metadata": {},
   "source": [
    "## Author\n",
    "Maria-Clara Bjelkanovic"
   ]
  },
  {
   "cell_type": "code",
   "execution_count": null,
   "id": "3d585d6a-963b-4c3e-8d3d-08116988137c",
   "metadata": {},
   "outputs": [],
   "source": []
  }
 ],
 "metadata": {
  "kernelspec": {
   "display_name": "Python 3 (ipykernel)",
   "language": "python",
   "name": "python3"
  },
  "language_info": {
   "codemirror_mode": {
    "name": "ipython",
    "version": 3
   },
   "file_extension": ".py",
   "mimetype": "text/x-python",
   "name": "python",
   "nbconvert_exporter": "python",
   "pygments_lexer": "ipython3",
   "version": "3.12.8"
  }
 },
 "nbformat": 4,
 "nbformat_minor": 5
}
